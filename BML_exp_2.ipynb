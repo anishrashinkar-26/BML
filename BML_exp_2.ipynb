{
  "nbformat": 4,
  "nbformat_minor": 0,
  "metadata": {
    "colab": {
      "provenance": [],
      "authorship_tag": "ABX9TyOxf9/ZcvFLE/gxLe60k14D",
      "include_colab_link": true
    },
    "kernelspec": {
      "name": "python3",
      "display_name": "Python 3"
    },
    "language_info": {
      "name": "python"
    }
  },
  "cells": [
    {
      "cell_type": "markdown",
      "metadata": {
        "id": "view-in-github",
        "colab_type": "text"
      },
      "source": [
        "<a href=\"https://colab.research.google.com/github/anishrashinkar-26/BML/blob/main/BML_exp_2.ipynb\" target=\"_parent\"><img src=\"https://colab.research.google.com/assets/colab-badge.svg\" alt=\"Open In Colab\"/></a>"
      ]
    },
    {
      "cell_type": "code",
      "execution_count": 1,
      "metadata": {
        "colab": {
          "base_uri": "https://localhost:8080/"
        },
        "id": "3wRQCoMqH1-C",
        "outputId": "31eef43f-2c47-4cd7-8484-c180d584ff75"
      },
      "outputs": [
        {
          "output_type": "stream",
          "name": "stdout",
          "text": [
            "Original Data:\n",
            "      Name   Age Gender   Salary\n",
            "0    Alice  25.0      F  50000.0\n",
            "1      Bob  30.0      M  60000.0\n",
            "2  Charlie   NaN      M  55000.0\n",
            "3    David  22.0      M      NaN\n",
            "4     None  28.0      F  52000.0\n",
            "\n",
            "Preprocessed Data:\n",
            "      Name       Age  Gender    Salary\n",
            "0    Alice -0.461069       0 -1.261511\n",
            "1      Bob  1.383208       1  1.706750\n",
            "2  Charlie  0.000000       1  0.222620\n",
            "3    David -1.567636       1  0.000000\n",
            "4  Unknown  0.645497       0 -0.667859\n"
          ]
        },
        {
          "output_type": "stream",
          "name": "stderr",
          "text": [
            "/tmp/ipython-input-687508067.py:22: FutureWarning: A value is trying to be set on a copy of a DataFrame or Series through chained assignment using an inplace method.\n",
            "The behavior will change in pandas 3.0. This inplace method will never work because the intermediate object on which we are setting values always behaves as a copy.\n",
            "\n",
            "For example, when doing 'df[col].method(value, inplace=True)', try using 'df.method({col: value}, inplace=True)' or df[col] = df[col].method(value) instead, to perform the operation inplace on the original object.\n",
            "\n",
            "\n",
            "  df['Name'].fillna('Unknown', inplace=True)\n"
          ]
        }
      ],
      "source": [
        "# Step 1: Import libraries\n",
        "import pandas as pd\n",
        "from sklearn.preprocessing import LabelEncoder, StandardScaler\n",
        "from sklearn.impute import SimpleImputer\n",
        "\n",
        "# Step 2: Create a sample dataset\n",
        "data = {\n",
        "    'Name': ['Alice', 'Bob', 'Charlie', 'David', None],\n",
        "    'Age': [25, 30, None, 22, 28],\n",
        "    'Gender': ['F', 'M', 'M', 'M', 'F'],\n",
        "    'Salary': [50000, 60000, 55000, None, 52000]\n",
        "}\n",
        "\n",
        "df = pd.DataFrame(data)\n",
        "print(\"Original Data:\")\n",
        "print(df)\n",
        "\n",
        "# Step 3: Handle missing values\n",
        "imputer = SimpleImputer(strategy='mean')\n",
        "df['Age'] = imputer.fit_transform(df[['Age']])\n",
        "df['Salary'] = imputer.fit_transform(df[['Salary']])\n",
        "df['Name'].fillna('Unknown', inplace=True)\n",
        "\n",
        "# Step 4: Encode categorical variables\n",
        "label_encoder = LabelEncoder()\n",
        "df['Gender'] = label_encoder.fit_transform(df['Gender'])\n",
        "\n",
        "# Step 5: Feature scaling\n",
        "scaler = StandardScaler()\n",
        "df[['Age', 'Salary']] = scaler.fit_transform(df[['Age', 'Salary']])\n",
        "\n",
        "# Step 6: Display preprocessed data\n",
        "print(\"\\nPreprocessed Data:\")\n",
        "print(df)\n"
      ]
    }
  ]
}