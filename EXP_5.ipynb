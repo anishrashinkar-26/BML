{
  "cells": [
    {
      "cell_type": "markdown",
      "metadata": {
        "id": "view-in-github",
        "colab_type": "text"
      },
      "source": [
        "<a href=\"https://colab.research.google.com/github/anishrashinkar-26/BML/blob/main/EXP_5.ipynb\" target=\"_parent\"><img src=\"https://colab.research.google.com/assets/colab-badge.svg\" alt=\"Open In Colab\"/></a>"
      ]
    },
    {
      "cell_type": "code",
      "source": [
        "import numpy as np\n",
        "import pandas as pd\n",
        "from sklearn.datasets import make_classification\n",
        "from sklearn.model_selection import train_test_split\n",
        "from sklearn.naive_bayes import GaussianNB\n",
        "from sklearn.metrics import accuracy_score, classification_report\n",
        "\n",
        "X, y = make_classification(n_samples=200, n_features=4, n_informative=3, n_redundant=0, random_state=42)\n",
        "df = pd.DataFrame(X, columns=['f1','f2','f3','f4'])\n",
        "df['target'] = y\n",
        "print(df.head())\n",
        "\n",
        "X_train, X_test, y_train, y_test = train_test_split(X, y, test_size=0.25, random_state=42)\n",
        "model = GaussianNB()\n",
        "model.fit(X_train, y_train)\n",
        "preds = model.predict(X_test)\n",
        "\n",
        "print(\"accuracy:\", accuracy_score(y_test, preds))\n",
        "print(classification_report(y_test, preds))\n",
        "print(\"sample predictions:\", preds[:10])\n"
      ],
      "metadata": {
        "colab": {
          "base_uri": "https://localhost:8080/"
        },
        "id": "1eZSCpAEGDVS",
        "outputId": "64878139-fd00-4942-b0da-eca1ee0e9006"
      },
      "execution_count": 4,
      "outputs": [
        {
          "output_type": "stream",
          "name": "stdout",
          "text": [
            "         f1        f2        f3        f4  target\n",
            "0  0.235276  0.668446  0.174415  0.615936       1\n",
            "1  0.579826  0.985854  1.680555 -0.363612       1\n",
            "2 -0.520783  0.443419  1.080275  0.170865       1\n",
            "3 -1.306467  1.929037 -1.637173 -1.110576       0\n",
            "4 -0.317796 -0.501952 -0.565364  1.029156       0\n",
            "accuracy: 0.9\n",
            "              precision    recall  f1-score   support\n",
            "\n",
            "           0       0.93      0.90      0.92        30\n",
            "           1       0.86      0.90      0.88        20\n",
            "\n",
            "    accuracy                           0.90        50\n",
            "   macro avg       0.89      0.90      0.90        50\n",
            "weighted avg       0.90      0.90      0.90        50\n",
            "\n",
            "sample predictions: [0 0 1 0 0 0 0 1 1 0]\n"
          ]
        }
      ]
    }
  ],
  "metadata": {
    "colab": {
      "provenance": [],
      "authorship_tag": "ABX9TyP9dpzQ0ARzPSjkBG2m5yQN",
      "include_colab_link": true
    },
    "kernelspec": {
      "display_name": "Python 3",
      "name": "python3"
    },
    "language_info": {
      "name": "python"
    }
  },
  "nbformat": 4,
  "nbformat_minor": 0
}