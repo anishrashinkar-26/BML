{
  "nbformat": 4,
  "nbformat_minor": 0,
  "metadata": {
    "colab": {
      "provenance": [],
      "authorship_tag": "ABX9TyMaHofa54sz+hL58b0mqakJ",
      "include_colab_link": true
    },
    "kernelspec": {
      "name": "python3",
      "display_name": "Python 3"
    },
    "language_info": {
      "name": "python"
    }
  },
  "cells": [
    {
      "cell_type": "markdown",
      "metadata": {
        "id": "view-in-github",
        "colab_type": "text"
      },
      "source": [
        "<a href=\"https://colab.research.google.com/github/anishrashinkar-26/BML/blob/main/BML_exp_1.ipynb\" target=\"_parent\"><img src=\"https://colab.research.google.com/assets/colab-badge.svg\" alt=\"Open In Colab\"/></a>"
      ]
    },
    {
      "cell_type": "code",
      "execution_count": 1,
      "metadata": {
        "colab": {
          "base_uri": "https://localhost:8080/"
        },
        "id": "eUEJYlTwGyBG",
        "outputId": "dc86f3bc-4ae5-4cb9-8faa-15325619e29d"
      },
      "outputs": [
        {
          "output_type": "stream",
          "name": "stdout",
          "text": [
            "Extracted Data:\n",
            "   id     name  marks\n",
            "0   1    Alice     85\n",
            "1   2      Bob     78\n",
            "2   3  Charlie     92\n"
          ]
        }
      ],
      "source": [
        "# Step 1: Import required libraries\n",
        "import sqlite3\n",
        "import pandas as pd\n",
        "\n",
        "# Step 2: Create a sample SQLite database and table\n",
        "conn = sqlite3.connect('sample.db')\n",
        "cursor = conn.cursor()\n",
        "\n",
        "# Create a table\n",
        "cursor.execute('''\n",
        "CREATE TABLE IF NOT EXISTS students (\n",
        "    id INTEGER PRIMARY KEY,\n",
        "    name TEXT,\n",
        "    marks INTEGER\n",
        ")\n",
        "''')\n",
        "\n",
        "# Insert sample data\n",
        "cursor.executemany('''\n",
        "INSERT INTO students (name, marks) VALUES (?, ?)\n",
        "''', [('Alice', 85), ('Bob', 78), ('Charlie', 92)])\n",
        "\n",
        "conn.commit()\n",
        "\n",
        "# Step 3: Extract data from the database\n",
        "df = pd.read_sql_query(\"SELECT * FROM students\", conn)\n",
        "\n",
        "# Step 4: Display the data\n",
        "print(\"Extracted Data:\")\n",
        "print(df)\n",
        "\n",
        "# Close the connection\n",
        "conn.close()\n"
      ]
    }
  ]
}