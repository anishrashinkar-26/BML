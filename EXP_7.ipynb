{
  "nbformat": 4,
  "nbformat_minor": 0,
  "metadata": {
    "colab": {
      "provenance": [],
      "authorship_tag": "ABX9TyNCymvNMfprR3cvNQZ2lxbA",
      "include_colab_link": true
    },
    "kernelspec": {
      "name": "python3",
      "display_name": "Python 3"
    },
    "language_info": {
      "name": "python"
    }
  },
  "cells": [
    {
      "cell_type": "markdown",
      "metadata": {
        "id": "view-in-github",
        "colab_type": "text"
      },
      "source": [
        "<a href=\"https://colab.research.google.com/github/anishrashinkar-26/BML/blob/main/EXP_7.ipynb\" target=\"_parent\"><img src=\"https://colab.research.google.com/assets/colab-badge.svg\" alt=\"Open In Colab\"/></a>"
      ]
    },
    {
      "cell_type": "code",
      "execution_count": 1,
      "metadata": {
        "colab": {
          "base_uri": "https://localhost:8080/"
        },
        "id": "0sE3n74SG4el",
        "outputId": "dc402c56-29db-4199-b835-79efda868a94"
      },
      "outputs": [
        {
          "output_type": "stream",
          "name": "stdout",
          "text": [
            "sklearn KNN accuracy: 1.0\n",
            "              precision    recall  f1-score   support\n",
            "\n",
            "           0       1.00      1.00      1.00        19\n",
            "           1       1.00      1.00      1.00        13\n",
            "           2       1.00      1.00      1.00        13\n",
            "\n",
            "    accuracy                           1.00        45\n",
            "   macro avg       1.00      1.00      1.00        45\n",
            "weighted avg       1.00      1.00      1.00        45\n",
            "\n",
            "manual KNN accuracy: 1.0\n",
            "              precision    recall  f1-score   support\n",
            "\n",
            "           0       1.00      1.00      1.00        19\n",
            "           1       1.00      1.00      1.00        13\n",
            "           2       1.00      1.00      1.00        13\n",
            "\n",
            "    accuracy                           1.00        45\n",
            "   macro avg       1.00      1.00      1.00        45\n",
            "weighted avg       1.00      1.00      1.00        45\n",
            "\n",
            "sample sklearn preds: [1 0 2 1 1 0 1 2 1 1]\n",
            "sample manual preds: [np.int64(1), np.int64(0), np.int64(2), np.int64(1), np.int64(1), np.int64(0), np.int64(1), np.int64(2), np.int64(1), np.int64(1)]\n"
          ]
        }
      ],
      "source": [
        "from sklearn.datasets import load_iris\n",
        "from sklearn.model_selection import train_test_split\n",
        "from sklearn.neighbors import KNeighborsClassifier\n",
        "from sklearn.metrics import accuracy_score, classification_report\n",
        "import numpy as np\n",
        "from collections import Counter\n",
        "\n",
        "iris = load_iris()\n",
        "X = iris.data\n",
        "y = iris.target\n",
        "X_train, X_test, y_train, y_test = train_test_split(X, y, test_size=0.3, random_state=42)\n",
        "\n",
        "model = KNeighborsClassifier(n_neighbors=3)\n",
        "model.fit(X_train, y_train)\n",
        "sk_preds = model.predict(X_test)\n",
        "print(\"sklearn KNN accuracy:\", accuracy_score(y_test, sk_preds))\n",
        "print(classification_report(y_test, sk_preds))\n",
        "\n",
        "def euclidean_distance(a, b):\n",
        "    return np.sqrt(np.sum((np.array(a) - np.array(b))**2))\n",
        "\n",
        "def knn_predict(training_data, training_labels, test_point, k):\n",
        "    distances = []\n",
        "    for i in range(len(training_data)):\n",
        "        dist = euclidean_distance(test_point, training_data[i])\n",
        "        distances.append((dist, training_labels[i]))\n",
        "    distances.sort(key=lambda x: x[0])\n",
        "    k_nearest_labels = [label for _, label in distances[:k]]\n",
        "    return Counter(k_nearest_labels).most_common(1)[0][0]\n",
        "\n",
        "manual_preds = []\n",
        "k = 3\n",
        "for tp in X_test:\n",
        "    manual_preds.append(knn_predict(X_train, y_train, tp, k))\n",
        "\n",
        "print(\"manual KNN accuracy:\", accuracy_score(y_test, manual_preds))\n",
        "print(classification_report(y_test, manual_preds))\n",
        "print(\"sample sklearn preds:\", sk_preds[:10])\n",
        "print(\"sample manual preds:\", manual_preds[:10])\n"
      ]
    }
  ]
}